{
 "cells": [
  {
   "cell_type": "markdown",
   "metadata": {},
   "source": [
    "## Alex Lee\n",
    "\n",
    "This project scrapes 15 cities with the worst rush hour traffic in the world from CN Traveler. The intellectual signifance comes from the increasing problem of traffic globally as cities become more developed and populated.\n",
    "\n",
    "One challenge came from using the API and how it treats spaces differently. I solved this by creating a very specific solution of getting rid of the spaces in the names of cities I knew were multiple words. This isn't a solution I would use normally (too specific) but it worked for this problem. Another challenge was the issue of displaying folium inline, which I wasn't able to overcome.\n",
    "\n",
    "I only collaborated with the professor and his resources.\n",
    "\n",
    "I estimate that I spent about six hours on this project."
   ]
  },
  {
   "cell_type": "code",
   "execution_count": 2,
   "metadata": {
    "collapsed": false
   },
   "outputs": [],
   "source": [
    "import urllib2\n",
    "import lxml\n",
    "from lxml import html\n",
    "import xml.etree.ElementTree as ET\n",
    "import cssselect\n",
    "import pandas\n",
    "import json\n",
    "import folium\n",
    "import matplotlib.pyplot as plt\n",
    "import shapely\n",
    "import shapely.wkt\n",
    "import geopandas"
   ]
  },
  {
   "cell_type": "code",
   "execution_count": 3,
   "metadata": {
    "collapsed": false,
    "scrolled": false
   },
   "outputs": [],
   "source": [
    "# Extract cities on the specific page of cnTraveler\n",
    "url = \"http://www.cntraveler.com/story/15-cities-with-the-worst-rush-hour-traffic-in-the-world\"\n",
    "con = urllib2.urlopen(url)\n",
    "doc_text = con.read()\n",
    "doc = lxml.html.fromstring(doc_text)"
   ]
  },
  {
   "cell_type": "code",
   "execution_count": 4,
   "metadata": {
    "collapsed": false
   },
   "outputs": [],
   "source": [
    "# Store results in a list\n",
    "cities =[]\n",
    "\n",
    "# Go through website and get content I want\n",
    "for row in doc.cssselect(\"body div.article-body\"):\n",
    "    for li in row.cssselect(\"ol li\"):\n",
    "        cities.append(li.text_content())"
   ]
  },
  {
   "cell_type": "code",
   "execution_count": 5,
   "metadata": {
    "collapsed": false
   },
   "outputs": [],
   "source": [
    "city_country = {}\n",
    "\n",
    "for city in cities:\n",
    "    # Get rid of spaces in names\n",
    "    if city == \"Mexico City, Mexico\":\n",
    "        city = \"Mexico%20city, Mexico\"\n",
    "    if city == \"St. Petersburg, Russia\":\n",
    "        city = \"St.%20Petersburg, Mexico\"\n",
    "    if city == \"Los Angeles, California, U.S.\":\n",
    "        city = \"Los%20Angeles, U.S.\"\n",
    "    # Get rid of commas and spaces\n",
    "    dict_values = city.split(\",\")\n",
    "    city_country[dict_values[0]] = dict_values[1].strip()"
   ]
  },
  {
   "cell_type": "code",
   "execution_count": 6,
   "metadata": {
    "collapsed": false,
    "scrolled": true
   },
   "outputs": [
    {
     "name": "stdout",
     "output_type": "stream",
     "text": [
      "{'Bucharest': '44.4361414 26.1027202', 'Beijing': '39.9059631 116.391248', 'Santiago': '-33.4377967 -70.650445', 'Istanbul': '41.0096334 28.9651646', 'Jakarta': '-6.1753941 106.827183', 'Moscow': '55.7506828 37.6174976', 'Guangzhou': '23.1300037 113.259001', 'Zhuhai': '22.2657516 113.568045', 'Shijiazhuang': '38.0359808 114.4627725', 'Bangkok': '-7.8464229 112.1005469', 'Los%20Angeles': '34.054935 -118.2444759', 'St.%20Petersburg': '27.7703796 -82.6695084', 'Mexico%20city': '19.4326009 -99.1333415', 'Chongqing': '29.5585712 106.5492822', 'Shenzhen': '22.5442673 114.0545327'}\n"
     ]
    }
   ],
   "source": [
    "city_coord = {}\n",
    "\n",
    "for city, country in city_country.iteritems():\n",
    "    # Get coordinates from the API and store in a dict\n",
    "    json_text =  urllib2.urlopen('http://nominatim.openstreetmap.org/search?city=' + city + '&' + country + '=USA&format=json').read()\n",
    "    json_text = json.loads(json_text)\n",
    "    lat = json_text[0]['lat']\n",
    "    lon = json_text[0]['lon']\n",
    "    coordinate = lat + \" \" + lon\n",
    "    city_coord[city] = str(coordinate)\n",
    "print city_coord"
   ]
  },
  {
   "cell_type": "code",
   "execution_count": 7,
   "metadata": {
    "collapsed": false
   },
   "outputs": [
    {
     "data": {
      "text/html": [
       "<div>\n",
       "<table border=\"1\" class=\"dataframe\">\n",
       "  <thead>\n",
       "    <tr style=\"text-align: right;\">\n",
       "      <th></th>\n",
       "      <th>geometry</th>\n",
       "    </tr>\n",
       "  </thead>\n",
       "  <tbody>\n",
       "    <tr>\n",
       "      <th>Bucharest</th>\n",
       "      <td>44.4361414 26.1027202</td>\n",
       "    </tr>\n",
       "    <tr>\n",
       "      <th>Beijing</th>\n",
       "      <td>39.9059631 116.391248</td>\n",
       "    </tr>\n",
       "    <tr>\n",
       "      <th>Santiago</th>\n",
       "      <td>-33.4377967 -70.650445</td>\n",
       "    </tr>\n",
       "    <tr>\n",
       "      <th>Istanbul</th>\n",
       "      <td>41.0096334 28.9651646</td>\n",
       "    </tr>\n",
       "    <tr>\n",
       "      <th>Jakarta</th>\n",
       "      <td>-6.1753941 106.827183</td>\n",
       "    </tr>\n",
       "    <tr>\n",
       "      <th>Moscow</th>\n",
       "      <td>55.7506828 37.6174976</td>\n",
       "    </tr>\n",
       "    <tr>\n",
       "      <th>Guangzhou</th>\n",
       "      <td>23.1300037 113.259001</td>\n",
       "    </tr>\n",
       "    <tr>\n",
       "      <th>Zhuhai</th>\n",
       "      <td>22.2657516 113.568045</td>\n",
       "    </tr>\n",
       "    <tr>\n",
       "      <th>Shijiazhuang</th>\n",
       "      <td>38.0359808 114.4627725</td>\n",
       "    </tr>\n",
       "    <tr>\n",
       "      <th>Bangkok</th>\n",
       "      <td>-7.8464229 112.1005469</td>\n",
       "    </tr>\n",
       "    <tr>\n",
       "      <th>Los%20Angeles</th>\n",
       "      <td>34.054935 -118.2444759</td>\n",
       "    </tr>\n",
       "    <tr>\n",
       "      <th>St.%20Petersburg</th>\n",
       "      <td>27.7703796 -82.6695084</td>\n",
       "    </tr>\n",
       "    <tr>\n",
       "      <th>Mexico%20city</th>\n",
       "      <td>19.4326009 -99.1333415</td>\n",
       "    </tr>\n",
       "    <tr>\n",
       "      <th>Chongqing</th>\n",
       "      <td>29.5585712 106.5492822</td>\n",
       "    </tr>\n",
       "    <tr>\n",
       "      <th>Shenzhen</th>\n",
       "      <td>22.5442673 114.0545327</td>\n",
       "    </tr>\n",
       "  </tbody>\n",
       "</table>\n",
       "</div>"
      ],
      "text/plain": [
       "                                geometry\n",
       "Bucharest          44.4361414 26.1027202\n",
       "Beijing            39.9059631 116.391248\n",
       "Santiago          -33.4377967 -70.650445\n",
       "Istanbul           41.0096334 28.9651646\n",
       "Jakarta            -6.1753941 106.827183\n",
       "Moscow             55.7506828 37.6174976\n",
       "Guangzhou          23.1300037 113.259001\n",
       "Zhuhai             22.2657516 113.568045\n",
       "Shijiazhuang      38.0359808 114.4627725\n",
       "Bangkok           -7.8464229 112.1005469\n",
       "Los%20Angeles     34.054935 -118.2444759\n",
       "St.%20Petersburg  27.7703796 -82.6695084\n",
       "Mexico%20city     19.4326009 -99.1333415\n",
       "Chongqing         29.5585712 106.5492822\n",
       "Shenzhen          22.5442673 114.0545327"
      ]
     },
     "execution_count": 7,
     "metadata": {},
     "output_type": "execute_result"
    }
   ],
   "source": [
    "df = pandas.DataFrame(city_coord.values(),index=city_coord.keys(), columns = ['geometry'])\n",
    "df"
   ]
  },
  {
   "cell_type": "code",
   "execution_count": 8,
   "metadata": {
    "collapsed": false
   },
   "outputs": [],
   "source": [
    "list_of_points = []\n",
    "\n",
    "for coordinate in city_coord.values():\n",
    "    # Save each coordinate as a point object in a list\n",
    "    list_of_points.append(shapely.wkt.loads('POINT(' + coordinate + ')'))"
   ]
  },
  {
   "cell_type": "code",
   "execution_count": 13,
   "metadata": {
    "collapsed": false
   },
   "outputs": [
    {
     "data": {
      "text/plain": [
       "0              POINT (44.4361414 26.1027202)\n",
       "1              POINT (39.9059631 116.391248)\n",
       "2     POINT (-33.4377967 -70.65044500000001)\n",
       "3              POINT (41.0096334 28.9651646)\n",
       "4              POINT (-6.1753941 106.827183)\n",
       "5              POINT (55.7506828 37.6174976)\n",
       "6              POINT (23.1300037 113.259001)\n",
       "7              POINT (22.2657516 113.568045)\n",
       "8             POINT (38.0359808 114.4627725)\n",
       "9             POINT (-7.8464229 112.1005469)\n",
       "10            POINT (34.054935 -118.2444759)\n",
       "11            POINT (27.7703796 -82.6695084)\n",
       "12            POINT (19.4326009 -99.1333415)\n",
       "13            POINT (29.5585712 106.5492822)\n",
       "14            POINT (22.5442673 114.0545327)\n",
       "dtype: object"
      ]
     },
     "execution_count": 13,
     "metadata": {},
     "output_type": "execute_result"
    }
   ],
   "source": [
    "# Create new data frame\n",
    "newGeometryGeoSeries = geopandas.GeoSeries(\n",
    "    list_of_points\n",
    ")\n",
    "\n",
    "\n",
    "newGeometryGeoSeries.to_file('MyGeometries.shp', driver='ESRI Shapefile')\n",
    "newGeometryGeoSeries"
   ]
  },
  {
   "cell_type": "code",
   "execution_count": 10,
   "metadata": {
    "collapsed": false,
    "scrolled": true
   },
   "outputs": [
    {
     "data": {
      "text/html": [
       "<div style=\"width:100%;\"><div style=\"position:relative;width:100%;height:0;padding-bottom:60%;\"><iframe src=\"data:text/html;base64,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\" style=\"position:absolute;width:100%;height:100%;left:0;top:0;\"></iframe></div></div>"
      ],
      "text/plain": [
       "<folium.folium.Map at 0x8e39048>"
      ]
     },
     "execution_count": 10,
     "metadata": {},
     "output_type": "execute_result"
    }
   ],
   "source": [
    "# Create geoDataFrame and plot\n",
    "global_traffic_map = folium.Map(location=[47.655914, -122.309646],\n",
    "                            zoom_start = 10000000,\n",
    "                            tiles='cartodbpositron')\n",
    "\n",
    "\n",
    "gjson = newGeometryGeoSeries.to_json()\n",
    "points = folium.features.GeoJson(gjson)\n",
    "global_traffic_map.add_children(points)\n",
    "\n",
    "global_traffic_map"
   ]
  }
 ],
 "metadata": {
  "kernelspec": {
   "display_name": "Python 2",
   "language": "python",
   "name": "python2"
  },
  "language_info": {
   "codemirror_mode": {
    "name": "ipython",
    "version": 2
   },
   "file_extension": ".py",
   "mimetype": "text/x-python",
   "name": "python",
   "nbconvert_exporter": "python",
   "pygments_lexer": "ipython2",
   "version": "2.7.13"
  }
 },
 "nbformat": 4,
 "nbformat_minor": 0
}
